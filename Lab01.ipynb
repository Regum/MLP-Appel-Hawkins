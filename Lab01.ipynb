{
 "cells": [
  {
   "cell_type": "markdown",
   "metadata": {},
   "source": [
    "# Lab 01\n",
    "## Conrad Appel & Eric Hawkins"
   ]
  },
  {
   "cell_type": "markdown",
   "metadata": {},
   "source": [
    "The dataset we're using for this project is named \"[Speed Dating Experiment](https://www.kaggle.com/annavictoria/speed-dating-experiment)\" and was submitted to Kaggle by Anna Montoya. The data was collected by two Colombia professors, Ray Fisman and Sheena Iyengar, in order to discover what causes love at first sight.\n",
    "\n",
    "The experiement was handled in a few distinct phases. First, participants answered general questions on themselves, such as their age, race, gender, income, career, interests, as well as what they look for in their dates. After this questionnaire, the participants each went on 10 rounds of 4-minute dates, and afterwards, rated each date's attributes, overall attractiveness, and whether or not they'd go on a second date. After these first 10 dates, the participants answered the same questions on what they find attractive in their dates and how they think they stood up. After 10 more dates, they'll answer the same questions one more time. Then, three weeks later, there was one last follow-up questionairre that asks how many dates each person met up with again, and who asked whom.\n",
    "\n",
    "Through this data, we hope to discover the \"key\" to acquiring and impressing dates. We believe that this data set holds the key to what the most attractive attributes are in a person, at least for making first impressions. With the abundance of data available to us from this study, we believe we might be able to gather other interesting traits that have an effect on attractiveness. For example, we might be able to guess a person's confidence by comparing others' scores of them to their expected scores."
   ]
  },
  {
   "cell_type": "code",
   "execution_count": 21,
   "metadata": {
    "collapsed": false
   },
   "outputs": [],
   "source": [
    "import pandas as p\n",
    "data = p.read_csv('./speeddating.csv', encoding='ISO-8859-1')"
   ]
  },
  {
   "cell_type": "code",
   "execution_count": 22,
   "metadata": {
    "collapsed": false
   },
   "outputs": [
    {
     "data": {
      "text/plain": [
       "array(['60,521', '35,223', '6,268', '77,096', '94,022'], dtype=object)"
      ]
     },
     "execution_count": 22,
     "metadata": {},
     "output_type": "execute_result"
    }
   ],
   "source": [
    "data['zipcode'].unique()[0:5]"
   ]
  },
  {
   "cell_type": "markdown",
   "metadata": {},
   "source": [
    "With the exception of the zipcode field, most of the fields look like they were imported correctly by pandas. There are some exceptions, such as the \"id\" column in which the datatype should have been an int instead of a float, but it shouldn't cause issues in the long run as none of the numbers are too big or too small (and if so, it will be easy to fix).\n",
    "\n",
    "The zipcode field should be an \"object\" (really a string in this case) as it's not ordered data. However, the data was malformed in the input file, leading to values such as \"60,521\" and \"6,268\", which should be transformed to \"60521\" and \"06268\"."
   ]
  },
  {
   "cell_type": "code",
   "execution_count": 23,
   "metadata": {
    "collapsed": false
   },
   "outputs": [],
   "source": [
    "data['zipcode'] = data['zipcode'].apply(lambda v: str(v).replace(',', '')).apply(lambda v: v.zfill(5))"
   ]
  },
  {
   "cell_type": "code",
   "execution_count": null,
   "metadata": {
    "collapsed": false
   },
   "outputs": [],
   "source": []
  },
  {
   "cell_type": "code",
   "execution_count": null,
   "metadata": {
    "collapsed": true
   },
   "outputs": [],
   "source": []
  }
 ],
 "metadata": {
  "anaconda-cloud": {},
  "kernelspec": {
   "display_name": "Python [Root]",
   "language": "python",
   "name": "Python [Root]"
  },
  "language_info": {
   "codemirror_mode": {
    "name": "ipython",
    "version": 3
   },
   "file_extension": ".py",
   "mimetype": "text/x-python",
   "name": "python",
   "nbconvert_exporter": "python",
   "pygments_lexer": "ipython3",
   "version": "3.5.2"
  }
 },
 "nbformat": 4,
 "nbformat_minor": 1
}
