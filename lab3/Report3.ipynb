{
 "cells": [
  {
   "cell_type": "markdown",
   "metadata": {},
   "source": [
    "# Lab 3\n",
    "\n",
    "## Conrad Appel & Eric Hawkins"
   ]
  },
  {
   "cell_type": "code",
   "execution_count": null,
   "metadata": {
    "collapsed": false
   },
   "outputs": [],
   "source": [
    "%matplotlib inline\n",
    "import numpy as np\n",
    "from scipy import ndimage\n",
    "import os \n",
    "import matplotlib.pyplot as plt\n",
    "from sklearn.decomposition import PCA\n",
    "import pandas as p\n",
    "from skimage.feature import match_template\n",
    "import _pickle as cPickle\n",
    "\n",
    "numlabels = 2\n",
    "\n",
    "###\n",
    "# Download dataset from http://www.cs.toronto.edu/~kriz/cifar-10-python.tar.gz\n",
    "# save all files to ./lab3/imgs/\n",
    "###"
   ]
  },
  {
   "cell_type": "code",
   "execution_count": null,
   "metadata": {
    "collapsed": false
   },
   "outputs": [],
   "source": [
    "dics = []\n",
    "for root, directory, files in os.walk('imgs'):\n",
    "    for f in files:\n",
    "        if 'data_batch' in f:\n",
    "            with open(root+'/'+f, 'rb') as fo:\n",
    "                dics.append(cPickle.load(fo, encoding='latin1'))\n",
    "total_imgs = []\n",
    "for dic in dics:\n",
    "    for i in range(len(dic['data'])):\n",
    "        curpic = []\n",
    "        curpic.append(dic['data'][i]) # 1D img (1024 R, 1024 G, 1024 B)\n",
    "        curpic.append(dic['labels'][i]) # int representing the label\n",
    "        total_imgs.append(curpic)\n",
    "\n",
    "total_imgs = np.array(total_imgs)\n",
    "imgs_df = p.DataFrame(total_imgs)\n",
    "imgs_df.columns = ['oneDColor', 'label']"
   ]
  },
  {
   "cell_type": "code",
   "execution_count": null,
   "metadata": {
    "collapsed": false
   },
   "outputs": [],
   "source": [
    "def toGrayscale(img):\n",
    "    oneDgray = np.zeros(1024)\n",
    "    for j in range(1024):\n",
    "        oneDgray[j] = 0.299*img[j] + 0.587*img[j+1024] + 0.114*img[j+2048]\n",
    "    return oneDgray\n",
    "\n",
    "imgs_df['oneDGray'] = imgs_df['oneDColor'].apply(toGrayscale)"
   ]
  },
  {
   "cell_type": "code",
   "execution_count": null,
   "metadata": {
    "collapsed": false
   },
   "outputs": [],
   "source": [
    "f, axes = plt.subplots(1,10)\n",
    "for label in range(numlabels):\n",
    "    axes[label].axis('off')\n",
    "    axes[label].imshow(imgs_df.loc[lambda df: df.label == label]['oneDGray'].sample(n=1).values[0].reshape((32,32)), cmap=plt.cm.gray)"
   ]
  },
  {
   "cell_type": "markdown",
   "metadata": {},
   "source": [
    "## Linear Dimensionality Reduction via PCA"
   ]
  },
  {
   "cell_type": "code",
   "execution_count": null,
   "metadata": {
    "collapsed": false
   },
   "outputs": [],
   "source": [
    "# Principal Components Analysis\n",
    "pcas = []\n",
    "for label in range(numlabels):\n",
    "    x = imgs_df.loc[lambda df: df.label == label]\n",
    "    \n",
    "    pixels_are_cols = np.zeros(shape=(len(x), 1024))\n",
    "    for i in range(len(x)):\n",
    "        cur_pic = x['oneDGray'].values[i]\n",
    "        for j in range(1024):\n",
    "            pixels_are_cols[i][j] = cur_pic[j]\n",
    "    \n",
    "    x = pixels_are_cols\n",
    "    y = [True]*len(x)\n",
    "    n_comps = 175\n",
    "\n",
    "    pca = PCA(n_components=n_comps)\n",
    "    X_pca = pca.fit(x)\n",
    "    pcas.append((x, pca, X_pca))"
   ]
  },
  {
   "cell_type": "code",
   "execution_count": null,
   "metadata": {
    "collapsed": false
   },
   "outputs": [],
   "source": [
    "f, axes = plt.subplots(1, numlabels)\n",
    "for label in range(numlabels):\n",
    "    axis = axes[label] if numlabels > 1 else axes\n",
    "    eigenpics = pcas[label][1].components_.reshape((n_comps, 32, 32))\n",
    "    np.random.shuffle(pcas[label][0])\n",
    "    recd = pca.inverse_transform(pca.transform(pcas[label][0][0].reshape(1, -1)))\n",
    "    axis.axis('off')\n",
    "    axis.imshow(recd.reshape((32,32)), cmap=plt.cm.gray)"
   ]
  },
  {
   "cell_type": "code",
   "execution_count": null,
   "metadata": {
    "collapsed": true
   },
   "outputs": [],
   "source": []
  }
 ],
 "metadata": {
  "anaconda-cloud": {},
  "kernelspec": {
   "display_name": "Python [conda root]",
   "language": "python",
   "name": "conda-root-py"
  },
  "language_info": {
   "codemirror_mode": {
    "name": "ipython",
    "version": 3
   },
   "file_extension": ".py",
   "mimetype": "text/x-python",
   "name": "python",
   "nbconvert_exporter": "python",
   "pygments_lexer": "ipython3",
   "version": "3.5.2"
  }
 },
 "nbformat": 4,
 "nbformat_minor": 2
}
