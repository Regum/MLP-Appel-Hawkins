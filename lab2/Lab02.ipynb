{
 "cells": [
  {
   "cell_type": "markdown",
   "metadata": {
    "collapsed": true
   },
   "source": [
    "# Lab 02\n",
    "## Conrad Appel & Eric Hawkins"
   ]
  },
  {
   "cell_type": "markdown",
   "metadata": {},
   "source": [
    "For this project, we used a data set called \"[Comcast Customer Complaints](https://www.kaggle.com/archaeocharlie/comcastcomplaints)\", which was uploaded to Kaggle by user Charlie H. The data set consists of CSVs, one containing information about customer complaints to Comcast and another containing information about customer complaints to the FCC about Comcast. Charlie H. scraped the data from consumeraffairs.com and cityexplainer after an overly lengthy support call in order to see if other customers had a similar experience.\n",
    "\n",
    "Comcast is notorious for having bad customer service. By examining the complaints in this data set, we hoped to find what sorts of negative experiences have fueled this negative perception of the company's customer support."
   ]
  },
  {
   "cell_type": "code",
   "execution_count": 1,
   "metadata": {
    "collapsed": false
   },
   "outputs": [],
   "source": [
    "import pandas as p\n",
    "from sklearn.feature_extraction.text import CountVectorizer, TfidfVectorizer\n",
    "from nltk.corpus import stopwords\n",
    "import seaborn as s\n",
    "import matplotlib.pyplot as plt\n",
    "from wordcloud import WordCloud # conda install -c https://conda.anaconda.org/amueller wordcloud\n",
    "%matplotlib inline"
   ]
  },
  {
   "cell_type": "code",
   "execution_count": 2,
   "metadata": {
    "collapsed": false
   },
   "outputs": [
    {
     "name": "stdout",
     "output_type": "stream",
     "text": [
      "Number of documents: 2225\n"
     ]
    }
   ],
   "source": [
    "data = p.read_csv('comcast-fcc-complaints-2015.csv')\n",
    "print(\"Number of documents: \" + str(len(data)))"
   ]
  },
  {
   "cell_type": "code",
   "execution_count": 10,
   "metadata": {
    "collapsed": false
   },
   "outputs": [
    {
     "name": "stdout",
     "output_type": "stream",
     "text": [
      "Vocabulary size: 12399\n"
     ]
    }
   ],
   "source": [
    "stop_word_list = set(\"Follow up message by FCC on 2015 AM PM This constitutes a notice of informal complaint filed with the FCC against your company Your response to the consumer with a copy to the FCC is due no later than 30 days from the date of this notice For more information on your legal responsibilities see https us app box com complaintnotice If you have any questions regarding this notice please contact the at carriersupport gov\".lower().split() + stopwords.words('english') + ['br', 'comcast', 'carrier'])\n",
    "\n",
    "# Words to be ignored in addition to other stop words\n",
    "# 'fcc', 'notice', 'response', '30', 'days', 'company', 'due', 'please', 'follow', and 'complaint' are included in the text of nearly every follow-up as part of a template\n",
    "# 'br' may appear as an artifact of HTML formatting or incorrect stemming\n",
    "# 'comcast' appears frequently as it is the subject of the complaints\n",
    "# '2015' occurs in nearly every email as part of a date template, since this data set is from 2015.\n",
    "stop_word_list.update(('would', 'get', 'gurmilap', 'chris'))\n",
    "stop_word_list = list(stop_word_list)\n",
    "\n",
    "bow_vectorizer = CountVectorizer(stop_words=list(stop_word_list))\n",
    "bow = bow_vectorizer.fit_transform(data['Description'])\n",
    "\n",
    "bow_df = p.DataFrame(data=bow.toarray(), columns=bow_vectorizer.get_feature_names())\n",
    "print(\"Vocabulary size: \"+str(len(bow_vectorizer.vocabulary_)))"
   ]
  },
  {
   "cell_type": "code",
   "execution_count": 11,
   "metadata": {
    "collapsed": false
   },
   "outputs": [
    {
     "data": {
      "text/html": [
       "<div>\n",
       "<table border=\"1\" class=\"dataframe\">\n",
       "  <thead>\n",
       "    <tr style=\"text-align: right;\">\n",
       "      <th></th>\n",
       "      <th>00</th>\n",
       "      <th>000</th>\n",
       "      <th>0000</th>\n",
       "      <th>0002</th>\n",
       "      <th>0014e88cd784</th>\n",
       "      <th>0022102be93</th>\n",
       "      <th>0057</th>\n",
       "      <th>0069444</th>\n",
       "      <th>00a</th>\n",
       "      <th>00am</th>\n",
       "      <th>...</th>\n",
       "      <th>zeroed</th>\n",
       "      <th>zip</th>\n",
       "      <th>zipcode</th>\n",
       "      <th>zn0nyiqxvyz7kqurievnv3tye</th>\n",
       "      <th>zone</th>\n",
       "      <th>zoned</th>\n",
       "      <th>zones</th>\n",
       "      <th>zuckerberg</th>\n",
       "      <th>上午10</th>\n",
       "      <th>写道</th>\n",
       "    </tr>\n",
       "  </thead>\n",
       "  <tbody>\n",
       "    <tr>\n",
       "      <th>count</th>\n",
       "      <td>2225.000000</td>\n",
       "      <td>2225.000000</td>\n",
       "      <td>2225.000000</td>\n",
       "      <td>2225.000000</td>\n",
       "      <td>2225.000000</td>\n",
       "      <td>2225.000000</td>\n",
       "      <td>2225.000000</td>\n",
       "      <td>2225.000000</td>\n",
       "      <td>2225.000000</td>\n",
       "      <td>2225.000000</td>\n",
       "      <td>...</td>\n",
       "      <td>2225.000000</td>\n",
       "      <td>2225.000000</td>\n",
       "      <td>2225.000000</td>\n",
       "      <td>2225.000000</td>\n",
       "      <td>2225.000000</td>\n",
       "      <td>2225.000000</td>\n",
       "      <td>2225.000000</td>\n",
       "      <td>2225.000000</td>\n",
       "      <td>2225.000000</td>\n",
       "      <td>2225.000000</td>\n",
       "    </tr>\n",
       "    <tr>\n",
       "      <th>mean</th>\n",
       "      <td>0.013352</td>\n",
       "      <td>0.000767</td>\n",
       "      <td>0.000153</td>\n",
       "      <td>0.000084</td>\n",
       "      <td>0.000010</td>\n",
       "      <td>0.000095</td>\n",
       "      <td>0.000115</td>\n",
       "      <td>0.000024</td>\n",
       "      <td>0.000058</td>\n",
       "      <td>0.000654</td>\n",
       "      <td>...</td>\n",
       "      <td>0.000132</td>\n",
       "      <td>0.000692</td>\n",
       "      <td>0.000216</td>\n",
       "      <td>0.000044</td>\n",
       "      <td>0.000024</td>\n",
       "      <td>0.000046</td>\n",
       "      <td>0.000021</td>\n",
       "      <td>0.000057</td>\n",
       "      <td>0.000082</td>\n",
       "      <td>0.000082</td>\n",
       "    </tr>\n",
       "    <tr>\n",
       "      <th>std</th>\n",
       "      <td>0.041853</td>\n",
       "      <td>0.009578</td>\n",
       "      <td>0.004178</td>\n",
       "      <td>0.003975</td>\n",
       "      <td>0.000458</td>\n",
       "      <td>0.004466</td>\n",
       "      <td>0.005442</td>\n",
       "      <td>0.001122</td>\n",
       "      <td>0.002758</td>\n",
       "      <td>0.008738</td>\n",
       "      <td>...</td>\n",
       "      <td>0.004442</td>\n",
       "      <td>0.012784</td>\n",
       "      <td>0.006691</td>\n",
       "      <td>0.002083</td>\n",
       "      <td>0.001111</td>\n",
       "      <td>0.002168</td>\n",
       "      <td>0.001000</td>\n",
       "      <td>0.002706</td>\n",
       "      <td>0.003888</td>\n",
       "      <td>0.003888</td>\n",
       "    </tr>\n",
       "    <tr>\n",
       "      <th>min</th>\n",
       "      <td>0.000000</td>\n",
       "      <td>0.000000</td>\n",
       "      <td>0.000000</td>\n",
       "      <td>0.000000</td>\n",
       "      <td>0.000000</td>\n",
       "      <td>0.000000</td>\n",
       "      <td>0.000000</td>\n",
       "      <td>0.000000</td>\n",
       "      <td>0.000000</td>\n",
       "      <td>0.000000</td>\n",
       "      <td>...</td>\n",
       "      <td>0.000000</td>\n",
       "      <td>0.000000</td>\n",
       "      <td>0.000000</td>\n",
       "      <td>0.000000</td>\n",
       "      <td>0.000000</td>\n",
       "      <td>0.000000</td>\n",
       "      <td>0.000000</td>\n",
       "      <td>0.000000</td>\n",
       "      <td>0.000000</td>\n",
       "      <td>0.000000</td>\n",
       "    </tr>\n",
       "    <tr>\n",
       "      <th>25%</th>\n",
       "      <td>0.000000</td>\n",
       "      <td>0.000000</td>\n",
       "      <td>0.000000</td>\n",
       "      <td>0.000000</td>\n",
       "      <td>0.000000</td>\n",
       "      <td>0.000000</td>\n",
       "      <td>0.000000</td>\n",
       "      <td>0.000000</td>\n",
       "      <td>0.000000</td>\n",
       "      <td>0.000000</td>\n",
       "      <td>...</td>\n",
       "      <td>0.000000</td>\n",
       "      <td>0.000000</td>\n",
       "      <td>0.000000</td>\n",
       "      <td>0.000000</td>\n",
       "      <td>0.000000</td>\n",
       "      <td>0.000000</td>\n",
       "      <td>0.000000</td>\n",
       "      <td>0.000000</td>\n",
       "      <td>0.000000</td>\n",
       "      <td>0.000000</td>\n",
       "    </tr>\n",
       "    <tr>\n",
       "      <th>50%</th>\n",
       "      <td>0.000000</td>\n",
       "      <td>0.000000</td>\n",
       "      <td>0.000000</td>\n",
       "      <td>0.000000</td>\n",
       "      <td>0.000000</td>\n",
       "      <td>0.000000</td>\n",
       "      <td>0.000000</td>\n",
       "      <td>0.000000</td>\n",
       "      <td>0.000000</td>\n",
       "      <td>0.000000</td>\n",
       "      <td>...</td>\n",
       "      <td>0.000000</td>\n",
       "      <td>0.000000</td>\n",
       "      <td>0.000000</td>\n",
       "      <td>0.000000</td>\n",
       "      <td>0.000000</td>\n",
       "      <td>0.000000</td>\n",
       "      <td>0.000000</td>\n",
       "      <td>0.000000</td>\n",
       "      <td>0.000000</td>\n",
       "      <td>0.000000</td>\n",
       "    </tr>\n",
       "    <tr>\n",
       "      <th>75%</th>\n",
       "      <td>0.000000</td>\n",
       "      <td>0.000000</td>\n",
       "      <td>0.000000</td>\n",
       "      <td>0.000000</td>\n",
       "      <td>0.000000</td>\n",
       "      <td>0.000000</td>\n",
       "      <td>0.000000</td>\n",
       "      <td>0.000000</td>\n",
       "      <td>0.000000</td>\n",
       "      <td>0.000000</td>\n",
       "      <td>...</td>\n",
       "      <td>0.000000</td>\n",
       "      <td>0.000000</td>\n",
       "      <td>0.000000</td>\n",
       "      <td>0.000000</td>\n",
       "      <td>0.000000</td>\n",
       "      <td>0.000000</td>\n",
       "      <td>0.000000</td>\n",
       "      <td>0.000000</td>\n",
       "      <td>0.000000</td>\n",
       "      <td>0.000000</td>\n",
       "    </tr>\n",
       "    <tr>\n",
       "      <th>max</th>\n",
       "      <td>0.418304</td>\n",
       "      <td>0.185289</td>\n",
       "      <td>0.125811</td>\n",
       "      <td>0.187500</td>\n",
       "      <td>0.021604</td>\n",
       "      <td>0.210670</td>\n",
       "      <td>0.256682</td>\n",
       "      <td>0.052934</td>\n",
       "      <td>0.130091</td>\n",
       "      <td>0.189013</td>\n",
       "      <td>...</td>\n",
       "      <td>0.164093</td>\n",
       "      <td>0.426840</td>\n",
       "      <td>0.271383</td>\n",
       "      <td>0.098245</td>\n",
       "      <td>0.052427</td>\n",
       "      <td>0.102265</td>\n",
       "      <td>0.047189</td>\n",
       "      <td>0.127635</td>\n",
       "      <td>0.183384</td>\n",
       "      <td>0.183384</td>\n",
       "    </tr>\n",
       "  </tbody>\n",
       "</table>\n",
       "<p>8 rows × 12399 columns</p>\n",
       "</div>"
      ],
      "text/plain": [
       "                00          000         0000         0002  0014e88cd784  \\\n",
       "count  2225.000000  2225.000000  2225.000000  2225.000000   2225.000000   \n",
       "mean      0.013352     0.000767     0.000153     0.000084      0.000010   \n",
       "std       0.041853     0.009578     0.004178     0.003975      0.000458   \n",
       "min       0.000000     0.000000     0.000000     0.000000      0.000000   \n",
       "25%       0.000000     0.000000     0.000000     0.000000      0.000000   \n",
       "50%       0.000000     0.000000     0.000000     0.000000      0.000000   \n",
       "75%       0.000000     0.000000     0.000000     0.000000      0.000000   \n",
       "max       0.418304     0.185289     0.125811     0.187500      0.021604   \n",
       "\n",
       "       0022102be93         0057      0069444          00a         00am  \\\n",
       "count  2225.000000  2225.000000  2225.000000  2225.000000  2225.000000   \n",
       "mean      0.000095     0.000115     0.000024     0.000058     0.000654   \n",
       "std       0.004466     0.005442     0.001122     0.002758     0.008738   \n",
       "min       0.000000     0.000000     0.000000     0.000000     0.000000   \n",
       "25%       0.000000     0.000000     0.000000     0.000000     0.000000   \n",
       "50%       0.000000     0.000000     0.000000     0.000000     0.000000   \n",
       "75%       0.000000     0.000000     0.000000     0.000000     0.000000   \n",
       "max       0.210670     0.256682     0.052934     0.130091     0.189013   \n",
       "\n",
       "          ...            zeroed          zip      zipcode  \\\n",
       "count     ...       2225.000000  2225.000000  2225.000000   \n",
       "mean      ...          0.000132     0.000692     0.000216   \n",
       "std       ...          0.004442     0.012784     0.006691   \n",
       "min       ...          0.000000     0.000000     0.000000   \n",
       "25%       ...          0.000000     0.000000     0.000000   \n",
       "50%       ...          0.000000     0.000000     0.000000   \n",
       "75%       ...          0.000000     0.000000     0.000000   \n",
       "max       ...          0.164093     0.426840     0.271383   \n",
       "\n",
       "       zn0nyiqxvyz7kqurievnv3tye         zone        zoned        zones  \\\n",
       "count                2225.000000  2225.000000  2225.000000  2225.000000   \n",
       "mean                    0.000044     0.000024     0.000046     0.000021   \n",
       "std                     0.002083     0.001111     0.002168     0.001000   \n",
       "min                     0.000000     0.000000     0.000000     0.000000   \n",
       "25%                     0.000000     0.000000     0.000000     0.000000   \n",
       "50%                     0.000000     0.000000     0.000000     0.000000   \n",
       "75%                     0.000000     0.000000     0.000000     0.000000   \n",
       "max                     0.098245     0.052427     0.102265     0.047189   \n",
       "\n",
       "        zuckerberg         上午10           写道  \n",
       "count  2225.000000  2225.000000  2225.000000  \n",
       "mean      0.000057     0.000082     0.000082  \n",
       "std       0.002706     0.003888     0.003888  \n",
       "min       0.000000     0.000000     0.000000  \n",
       "25%       0.000000     0.000000     0.000000  \n",
       "50%       0.000000     0.000000     0.000000  \n",
       "75%       0.000000     0.000000     0.000000  \n",
       "max       0.127635     0.183384     0.183384  \n",
       "\n",
       "[8 rows x 12399 columns]"
      ]
     },
     "execution_count": 11,
     "metadata": {},
     "output_type": "execute_result"
    }
   ],
   "source": [
    "\n",
    "tfidf_transformer = TfidfVectorizer(stop_words=list(stop_word_list))\n",
    "tfidf = tfidf_transformer.fit_transform(data['Description'])\n",
    "\n",
    "tfidf_df = p.DataFrame(data=tfidf.toarray(), columns=tfidf_transformer.get_feature_names())\n",
    "tfidf_df.describe()"
   ]
  },
  {
   "cell_type": "code",
   "execution_count": 12,
   "metadata": {
    "collapsed": false
   },
   "outputs": [
    {
     "data": {
      "image/png": "[encoded data removed]",
      "text/plain": [
       "<matplotlib.figure.Figure at 0x7fc1a3632dd8>"
      ]
     },
     "metadata": {},
     "output_type": "display_data"
    }
   ],
   "source": [
    "# top 10 words used\n",
    "top_used_words = bow_df.sum().sort_values(ascending=False)[:10]\n",
    "\n",
    "top_ax = s.barplot(top_used_words.values, top_used_words.index, orient=\"h\")"
   ]
  },
  {
   "cell_type": "markdown",
   "metadata": {},
   "source": [
    "The most common word accross the set is 'service'. From looking at the dataset, this appears to be from instances where a customer is complaining about their experience with Comcast's \"customer service\" or \"service\".\n",
    "\n",
    "The second most common term is 'internet', which seems to show that a large number of customers are having problems with their Comcast-provided internet service. Of the services provided by Comcast, this seems to be the one that most people have a problem with, seeing as how words that might refer to the other services provided by Comcast, such as 'phone', 'cable', or 'voice', appear significantly less frequently. In the case of Comcast's voice service, this seems to reflect the trend of consumers shifting from home phones to using exclusively cell phones. In the case of their cable service, one might conclude that they relatively exceptional cable service or that not nearly as many customers use it."
   ]
  },
  {
   "cell_type": "code",
   "execution_count": 13,
   "metadata": {
    "collapsed": false
   },
   "outputs": [
    {
     "data": {
      "image/png": "[encoded data removed]",
      "text/plain": [
       "<matplotlib.figure.Figure at 0x7fc1a3374fd0>"
      ]
     },
     "metadata": {},
     "output_type": "display_data"
    }
   ],
   "source": [
    "# heaviest weighted words\n",
    "heaviest_words = tfidf_df.max().sort_values(ascending=False)[:10]\n",
    "\n",
    "hv_ax = s.barplot(heaviest_words.values, heaviest_words.index, orient=\"h\")"
   ]
  },
  {
   "cell_type": "markdown",
   "metadata": {},
   "source": [
    "Tf-idf weighting refers to a statistic about the significance of a particular term in a document with in a collection of documents. Terms with the highest tf-idf rankings occur many times within a small number of documents. These scores are somewhat lower if the term occurs fewer times in a document or occurs across a large number of documents. This score is at its lower when the term occurs in nearly, if not, all documents.\n",
    "\n",
    "The word with the greatest tf-idf value is 'reliable'. Ironically, in the dataset, this word seems to be used most frequently to describe either what the complaining customer's internet service is *not* or what it used to be but isn't anymore.\n",
    "\n",
    "The second highest scoring term is 'fucking'. However, this doesn't mean that it occurs frequently across the dataset. Much of the reason why the term has such a high weighting is that it occurs *a lot* in a small number of documents.\n",
    "\n",
    "For the most part, the remaining terms in the top ten are from complaints about Comcast's unlimited data plans, mentions of their competitor Dish, internet speed, and overbilling. One outlier is '11193', which seems to be the number of a customer support ticket that was never resolved. This term occurs only once across the entire dataset. However, the text of its entry is very short: \"Ticket 11193 closed but no resolution was obtained\". This ticket was closed on April 4, 2015\". The brevity is likely what caused the term to score so high, and, since the only time it occurs in the data set was the day the ticket it refers to was closed, we can guess that this ticket was probably opened and discussed before the dataset started being collected, especially since the first entry occurs two days before on April 1, 2015."
   ]
  },
  {
   "cell_type": "code",
   "execution_count": 7,
   "metadata": {
    "collapsed": false,
    "scrolled": true
   },
   "outputs": [
    {
     "data": {
      "image/png": "[encoded data removed]",
      "text/plain": [
       "<matplotlib.figure.Figure at 0x7fc17d2c47b8>"
      ]
     },
     "metadata": {},
     "output_type": "display_data"
    }
   ],
   "source": [
    "wc = WordCloud(max_words=50, background_color=\"white\").generate_from_frequencies(bow_df.sum().sort_values(ascending=False).iteritems())\n",
    "plt.axis(\"off\")\n",
    "wc_ax = plt.imshow(wc)"
   ]
  },
  {
   "cell_type": "code",
   "execution_count": null,
   "metadata": {
    "collapsed": true
   },
   "outputs": [],
   "source": []
  }
 ],
 "metadata": {
  "anaconda-cloud": {},
  "kernelspec": {
   "display_name": "Python [Root]",
   "language": "python",
   "name": "Python [Root]"
  },
  "language_info": {
   "codemirror_mode": {
    "name": "ipython",
    "version": 3
   },
   "file_extension": ".py",
   "mimetype": "text/x-python",
   "name": "python",
   "nbconvert_exporter": "python",
   "pygments_lexer": "ipython3",
   "version": "3.5.2"
  }
 },
 "nbformat": 4,
 "nbformat_minor": 0
}
