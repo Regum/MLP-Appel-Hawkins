{
 "cells": [
  {
   "cell_type": "markdown",
   "metadata": {
    "collapsed": true
   },
   "source": [
    "# Lab 02\n",
    "## Conrad Appel & Eric Hawkins"
   ]
  },
  {
   "cell_type": "markdown",
   "metadata": {},
   "source": [
    "For this project, we used a data set called \"[Comcast Customer Complaints](https://www.kaggle.com/archaeocharlie/comcastcomplaints)\", which was uploaded to Kaggle by user Charlie H. The data set consists of CSVs, one containing information about customer complaints to Comcast and another containing information about customer complaints to the FCC about Comcast. Charlie H. scraped the data from consumeraffairs.com and cityexplainer after an overly lengthy support call in order to see if other customers had a similar experience.\n",
    "\n",
    "Comcast is notorious for having bad customer service. By examining the complaints in this data set, we hoped to find what sorts of negative experiences have fueled this negative perception of the company's customer support."
   ]
  },
  {
   "cell_type": "code",
   "execution_count": null,
   "metadata": {
    "collapsed": false
   },
   "outputs": [],
   "source": [
    "import pandas as p\n",
    "from sklearn.feature_extraction.text import CountVectorizer, TfidfVectorizer\n",
    "from nltk.corpus import stopwords"
   ]
  },
  {
   "cell_type": "code",
   "execution_count": null,
   "metadata": {
    "collapsed": false
   },
   "outputs": [],
   "source": [
    "data = p.read_csv('comcast-fcc-complaints-2015.csv')\n",
    "print(\"Number of documents: \" + str(len(data)))"
   ]
  },
  {
   "cell_type": "code",
   "execution_count": null,
   "metadata": {
    "collapsed": false
   },
   "outputs": [],
   "source": [
    "bow_vectorizer = CountVectorizer(stop_words=stopwords.words('english'))\n",
    "bow = bow_vectorizer.fit_transform(data['Description'])\n",
    "\n",
    "bow_df = p.DataFrame(data=bow.toarray(), columns=bow_vectorizer.get_feature_names())\n",
    "\n",
    "# top 10 words\n",
    "bow_df.sum().sort_values()[-10:]"
   ]
  },
  {
   "cell_type": "code",
   "execution_count": null,
   "metadata": {
    "collapsed": false
   },
   "outputs": [],
   "source": [
    "tfidf_transformer = TfidfVectorizer(stop_words=stopwords.words('english'))\n",
    "tfidf = tfidf_transformer.fit_transform(data['Description'])\n",
    "\n",
    "tfidf_df = p.DataFrame(data=tfidf.toarray(), columns=tfidf_transformer.get_feature_names())\n",
    "\n",
    "# get heaviest-weighted words\n",
    "tfidf_df.mean().sort_values()[-10:]"
   ]
  }
 ],
 "metadata": {
  "anaconda-cloud": {},
  "kernelspec": {
   "display_name": "Python [conda root]",
   "language": "python",
   "name": "conda-root-py"
  },
  "language_info": {
   "codemirror_mode": {
    "name": "ipython",
    "version": 3
   },
   "file_extension": ".py",
   "mimetype": "text/x-python",
   "name": "python",
   "nbconvert_exporter": "python",
   "pygments_lexer": "ipython3",
   "version": "3.5.2"
  }
 },
 "nbformat": 4,
 "nbformat_minor": 0
}
